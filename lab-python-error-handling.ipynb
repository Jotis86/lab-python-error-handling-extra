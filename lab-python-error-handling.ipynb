{
 "cells": [
  {
   "cell_type": "markdown",
   "id": "25d7736c-ba17-4aff-b6bb-66eba20fbf4e",
   "metadata": {},
   "source": [
    "# Lab | Error Handling"
   ]
  },
  {
   "cell_type": "markdown",
   "id": "6f8e446f-16b4-4e21-92e7-9d3d1eb551b6",
   "metadata": {},
   "source": [
    "Objective: Practice how to identify, handle and recover from potential errors in Python code using try-except blocks."
   ]
  },
  {
   "cell_type": "markdown",
   "id": "e253e768-aed8-4791-a800-87add1204afa",
   "metadata": {},
   "source": [
    "## Challenge \n",
    "\n",
    "Paste here your lab *functions* solutions. Apply error handling techniques to each function using try-except blocks. "
   ]
  },
  {
   "cell_type": "markdown",
   "id": "9180ff86-c3fe-4152-a609-081a287fa1af",
   "metadata": {},
   "source": [
    "The try-except block in Python is designed to handle exceptions and provide a fallback mechanism when code encounters errors. By enclosing the code that could potentially throw errors in a try block, followed by specific or general exception handling in the except block, we can gracefully recover from errors and continue program execution.\n",
    "\n",
    "However, there may be cases where an input may not produce an immediate error, but still needs to be addressed. In such situations, it can be useful to explicitly raise an error using the \"raise\" keyword, either to draw attention to the issue or handle it elsewhere in the program.\n",
    "\n",
    "Modify the code to handle possible errors in Python, it is recommended to use `try-except-else-finally` blocks, incorporate the `raise` keyword where necessary, and print meaningful error messages to alert users of any issues that may occur during program execution.\n",
    "\n"
   ]
  },
  {
   "cell_type": "code",
   "execution_count": 11,
   "id": "cc2c441d-9dcf-4817-b097-cf6cbe440846",
   "metadata": {},
   "outputs": [],
   "source": [
    "#Define a function named initialize_inventory\n",
    "def initialize_inventory(products):\n",
    "    inventory = {}\n",
    "    \n",
    "    for product in products:\n",
    "        valid_quantity = False\n",
    "        while not valid_quantity:\n",
    "            try:\n",
    "                quantity = int(input(f\"Enter the quantity for {product}: \"))\n",
    "                if quantity < 0:\n",
    "                    raise ValueError(\"Quantity cannot be negative.\")\n",
    "                valid_quantity = True\n",
    "            except ValueError as e:\n",
    "                print(f\"Invalid input: {e}. Please enter a valid quantity.\")\n",
    "        inventory[product] = quantity\n",
    "    \n",
    "    return inventory"
   ]
  },
  {
   "cell_type": "code",
   "execution_count": 12,
   "id": "a3b63f45",
   "metadata": {},
   "outputs": [],
   "source": [
    "def get_customer_orders(inventory):\n",
    "    customer_orders = set()\n",
    "    while True:\n",
    "        order = input(\"Enter a product name (or 'done' to finish): \")\n",
    "        if order.lower() == 'done':\n",
    "            break\n",
    "        try:\n",
    "            if order not in inventory:\n",
    "                raise ValueError(\"Product not found in inventory.\")\n",
    "            if inventory[order] <= 0:\n",
    "                raise ValueError(\"Product out of stock.\")\n",
    "            customer_orders.add(order)\n",
    "        except ValueError as e:\n",
    "            print(f\"Invalid input: {e}. Please enter a valid product name.\")\n",
    "    return customer_orders"
   ]
  },
  {
   "cell_type": "code",
   "execution_count": 13,
   "id": "9de7b427",
   "metadata": {},
   "outputs": [],
   "source": [
    "def update_inventory(customer_orders, inventory):\n",
    "    for order in customer_orders:\n",
    "        try:\n",
    "            if order in inventory and inventory[order] > 0:\n",
    "                inventory[order] -= 1\n",
    "            else:\n",
    "                raise ValueError(f\"Sorry, {order} is out of stock or not available.\")\n",
    "        except ValueError as e:\n",
    "            print(e)\n",
    "    return inventory"
   ]
  },
  {
   "cell_type": "code",
   "execution_count": 14,
   "id": "1d730cde",
   "metadata": {},
   "outputs": [],
   "source": [
    "def calculate_order_statistics(customer_orders, products):\n",
    "    try:\n",
    "        total_products_ordered = len(customer_orders)\n",
    "        unique_products_ordered = len(customer_orders.intersection(products))\n",
    "        percentage_unique = (unique_products_ordered / len(products)) * 100\n",
    "        return total_products_ordered, percentage_unique\n",
    "    except Exception as e:\n",
    "        print(f\"Error calculating order statistics: {e}\")\n",
    "        return 0, 0"
   ]
  },
  {
   "cell_type": "code",
   "execution_count": 15,
   "id": "d1e8870d",
   "metadata": {},
   "outputs": [],
   "source": [
    "def print_order_statistics(order_statistics):\n",
    "    try:\n",
    "        total_products_ordered, percentage_unique = order_statistics\n",
    "        print(f\"Total products ordered: {total_products_ordered}\")\n",
    "        print(f\"Percentage of unique products ordered: {percentage_unique:.2f}%\")\n",
    "    except Exception as e:\n",
    "        print(f\"Error printing order statistics: {e}\")"
   ]
  },
  {
   "cell_type": "code",
   "execution_count": 16,
   "id": "fb9a3fb0",
   "metadata": {},
   "outputs": [],
   "source": [
    "def print_updated_inventory(inventory):\n",
    "    try:\n",
    "        print(\"Updated Inventory:\")\n",
    "        for product, quantity in inventory.items():\n",
    "            print(f\"{product}: {quantity}\")\n",
    "    except Exception as e:\n",
    "        print(f\"Error printing updated inventory: {e}\")"
   ]
  },
  {
   "cell_type": "code",
   "execution_count": 17,
   "id": "18529922",
   "metadata": {},
   "outputs": [
    {
     "name": "stdout",
     "output_type": "stream",
     "text": [
      "Total products ordered: 2\n",
      "Percentage of unique products ordered: 40.00%\n",
      "Updated Inventory:\n",
      "t-shirt: 5\n",
      "mug: 4\n",
      "hat: 1\n",
      "book: 5\n",
      "keychain: 8\n"
     ]
    }
   ],
   "source": [
    "def main():\n",
    "    products = [\"t-shirt\", \"mug\", \"hat\", \"book\", \"keychain\"]\n",
    "    try:\n",
    "        inventory = initialize_inventory(products)\n",
    "        customer_orders = get_customer_orders(inventory)\n",
    "        inventory = update_inventory(customer_orders, inventory)\n",
    "        order_statistics = calculate_order_statistics(customer_orders, products)\n",
    "        print_order_statistics(order_statistics)\n",
    "        print_updated_inventory(inventory)\n",
    "    except Exception as e:\n",
    "        print(f\"An error occurred: {e}\")\n",
    "\n",
    "if __name__ == \"__main__\":\n",
    "    main()"
   ]
  }
 ],
 "metadata": {
  "kernelspec": {
   "display_name": "Python 3 (ipykernel)",
   "language": "python",
   "name": "python3"
  },
  "language_info": {
   "codemirror_mode": {
    "name": "ipython",
    "version": 3
   },
   "file_extension": ".py",
   "mimetype": "text/x-python",
   "name": "python",
   "nbconvert_exporter": "python",
   "pygments_lexer": "ipython3",
   "version": "3.11.7"
  }
 },
 "nbformat": 4,
 "nbformat_minor": 5
}
